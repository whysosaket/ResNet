{
 "cells": [
  {
   "cell_type": "code",
   "execution_count": null,
   "id": "05e7ed95",
   "metadata": {},
   "outputs": [],
   "source": [
    "import random\n",
    "import folium\n",
    "from folium.plugins import MarkerCluster\n",
    "import pandas as pd\n",
    "# Create a map centered on India\n",
    "m = folium.Map(location=[20.5937, 78.9629], zoom_start=5)\n",
    "\n",
    "# Create a MarkerCluster layer to group incidents\n",
    "marker_cluster = MarkerCluster().add_to(m)\n",
    "data = pd.DataFrame(columns=['latitude', 'longitude', 'incident_type'])\n",
    "# Generate some dummy incident data with random coordinates and types\n",
    "num_data_points = 5000\n",
    "incident_types = ['Fire', 'Theft', 'Accident', 'Murder', 'Floods']\n",
    "\n",
    "for _ in range(num_data_points):\n",
    "    incident_type = random.choice(incident_types)\n",
    "    latitude = random.uniform(8, 38)  # Approximate latitude range for India\n",
    "    longitude = random.uniform(68, 98)  # Approximate longitude range for India\n",
    "    data = data.append({'latitude': latitude, 'longitude': longitude, 'incident_type': incident_type}, ignore_index=True)\n",
    "    # Create a circle marker for each incident with different colors for each type\n",
    "    color = {\n",
    "        'Fire': 'red',\n",
    "        'Theft': 'blue',\n",
    "        'Accident': 'green',\n",
    "        'Murder': 'purple',\n",
    "        'Floods': 'orange'\n",
    "    }.get(incident_type, 'gray')\n",
    "\n",
    "    folium.CircleMarker(\n",
    "        location=[latitude, longitude],\n",
    "        radius=5,\n",
    "        color=color,\n",
    "        fill=True,\n",
    "        fill_color=color,\n",
    "        fill_opacity=0.6,\n",
    "        popup=incident_type\n",
    "    ).add_to(marker_cluster)\n",
    "\n",
    "# Save the map as an HTML file\n",
    "m.save('incident_heatmap_clustered.html')\n",
    "data.to_csv('dummy_incident_data.csv', index=False)\n",
    "# Open the map in your default web browser\n",
    "import webbrowser\n",
    "webbrowser.open('incident_heatmap_clustered.html')\n"
   ]
  }
 ],
 "metadata": {
  "kernelspec": {
   "display_name": "Python 3 (ipykernel)",
   "language": "python",
   "name": "python3"
  },
  "language_info": {
   "codemirror_mode": {
    "name": "ipython",
    "version": 3
   },
   "file_extension": ".py",
   "mimetype": "text/x-python",
   "name": "python",
   "nbconvert_exporter": "python",
   "pygments_lexer": "ipython3",
   "version": "3.10.0"
  }
 },
 "nbformat": 4,
 "nbformat_minor": 5
}
