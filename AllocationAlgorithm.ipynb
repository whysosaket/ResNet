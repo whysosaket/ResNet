{
 "cells": [
  {
   "cell_type": "code",
   "execution_count": 1,
   "id": "b226886c",
   "metadata": {},
   "outputs": [],
   "source": [
    "#basically get location as root node, lat/long\n",
    "#as per disaster type:\n",
    "    #if disaster in disaster_type_list:\n",
    "        #for location in disaster:\n",
    "    #root-> (new child)location\n",
    "    #run search\n",
    "    #else\n",
    "    #broadcast to all locations,along with distance\n",
    "#search: a*"
   ]
  },
  {
   "cell_type": "code",
   "execution_count": 2,
   "id": "703f9396",
   "metadata": {},
   "outputs": [
    {
     "ename": "NameError",
     "evalue": "name 'supported_disasters' is not defined",
     "output_type": "error",
     "traceback": [
      "\u001b[1;31m---------------------------------------------------------------------------\u001b[0m",
      "\u001b[1;31mNameError\u001b[0m                                 Traceback (most recent call last)",
      "Cell \u001b[1;32mIn[2], line 33\u001b[0m\n\u001b[0;32m     28\u001b[0m     \u001b[38;5;28;01mdef\u001b[39;00m \u001b[38;5;21m__str__\u001b[39m(\u001b[38;5;28mself\u001b[39m):\n\u001b[0;32m     29\u001b[0m         \u001b[38;5;66;03m# String representation of the graph\u001b[39;00m\n\u001b[0;32m     30\u001b[0m         \u001b[38;5;28;01mreturn\u001b[39;00m \u001b[38;5;28mstr\u001b[39m(\u001b[38;5;28mself\u001b[39m\u001b[38;5;241m.\u001b[39mgraph)\n\u001b[1;32m---> 33\u001b[0m \u001b[38;5;28;01mif\u001b[39;00m(disaster_type \u001b[38;5;129;01min\u001b[39;00m \u001b[43msupported_disasters\u001b[49m):\n\u001b[0;32m     34\u001b[0m     graph \u001b[38;5;241m=\u001b[39m UndirectedWeightedGraph()\n\u001b[0;32m     35\u001b[0m     graph\u001b[38;5;241m.\u001b[39madd_node(\u001b[38;5;124m\"\u001b[39m\u001b[38;5;124mroot\u001b[39m\u001b[38;5;124m\"\u001b[39m)\n",
      "\u001b[1;31mNameError\u001b[0m: name 'supported_disasters' is not defined"
     ]
    }
   ],
   "source": [
    "lat = 0.0\n",
    "import requests\n",
    "import json\n",
    "import network as nx\n",
    "long = 0.0\n",
    "disaster_type = \"fire\"\n",
    "\n",
    "if(disaster_type in supported_disasters):\n",
    "    Graph = nx.DiGraph()\n",
    "    geojson_data = {\n",
    "    \"type\": \"MultiPoint\",\n",
    "    \"coordinates\": [long, lat]\n",
    "    }\n",
    "    target = json.dumps(geojson_data)\n",
    "    Graph.add_node(\"root\")\n",
    "    for location in disaster_response_locations:\n",
    "        Graph.add_node(location['Location_Name'])\n",
    "        time_to_travel = find_travel_time(target,location[\"Location_Coordinates\"])\n",
    "        Graph.add_edge(\"root\",location['Location_Name'],weight = time_to_travel)\n",
    "     # Find shortest path using Dijkstra's algorithm\n",
    "    shortest_path = nx.shortest_path(G, source=\"Root\", weight=\"weight\")\n",
    "\n",
    "    # Find shortest travel time\n",
    "    shortest_time = nx.shortest_path_length(G, source=\"Root\", weight=\"weight\")\n",
    "else:\n",
    "    #broadcast message to all\n",
    "    pass\n",
    "\n",
    "\n",
    "\n"
   ]
  },
  {
   "cell_type": "code",
   "execution_count": 33,
   "id": "5c7d026c",
   "metadata": {},
   "outputs": [],
   "source": [
    "import requests\n",
    "import json\n",
    "def find_travel_time(start,end):\n",
    "    # Define the Azure Maps API endpoint URL\n",
    "    url = \"https://atlas.microsoft.com/route/matrix/json?api-version=1.0&waitForResults=True&routeType=shortest\"\n",
    "\n",
    "    # Replace with your Azure Maps subscription key\n",
    "    subscription_key = \"esKz29rBWkcH_7KlD6DQXrd6Gtww9shKaA2jTt5Mamc\"\n",
    "\n",
    "    # Define the request headers\n",
    "    headers = {\n",
    "    \"Content-Type\": \"application/json\",\n",
    "    \"subscription-key\": subscription_key\n",
    "    }\n",
    "\n",
    "    # Define the request body\n",
    "    #ensure data is multipoint json\n",
    "    request_data = {\n",
    "    \"origins\": start,\n",
    "    \"destinations\": end\n",
    "    }\n",
    "\n",
    "    # Convert the request_data dictionary to a JSON-formatted string\n",
    "    request_body = json.dumps(request_data)\n",
    "\n",
    "    # Send the POST request\n",
    "    response = requests.post(url, headers=headers, data=request_body)\n",
    "\n",
    "    # Check the response\n",
    "    if response.status_code == 200:\n",
    "    # Successfully received a response\n",
    "        response_data = response.json()\n",
    "        matrix = response_data.get(\"matrix\", [])\n",
    "\n",
    "    # Initialize the shortest travel time with a large value\n",
    "        shortest_travel_time = float(\"inf\")\n",
    "\n",
    "    # Iterate through the matrix to find the shortest travel time\n",
    "        for row in matrix:\n",
    "            for cell in row:\n",
    "            # Extract travel time from the cell response\n",
    "                travel_time = cell[\"response\"][\"routeSummary\"][\"travelTimeInSeconds\"]\n",
    "\n",
    "            # Update the shortest travel time if a shorter time is found\n",
    "                if travel_time < shortest_travel_time:\n",
    "                    shortest_travel_time = travel_time\n",
    "\n",
    "    # Print the shortest travel time\n",
    "    return shortest_travel_time\n"
   ]
  }
 ],
 "metadata": {
  "kernelspec": {
   "display_name": "Python 3 (ipykernel)",
   "language": "python",
   "name": "python3"
  },
  "language_info": {
   "codemirror_mode": {
    "name": "ipython",
    "version": 3
   },
   "file_extension": ".py",
   "mimetype": "text/x-python",
   "name": "python",
   "nbconvert_exporter": "python",
   "pygments_lexer": "ipython3",
   "version": "3.10.0"
  }
 },
 "nbformat": 4,
 "nbformat_minor": 5
}
