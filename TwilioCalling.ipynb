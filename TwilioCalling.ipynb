{
 "cells": [
  {
   "cell_type": "code",
   "execution_count": null,
   "id": "1ce2fb63",
   "metadata": {},
   "outputs": [],
   "source": [
    "from flask import Flask, request, jsonify\n",
    "from twilio.rest import Client\n",
    "\n",
    "account_sid = \"ACf911e559dc38b0b66b6dee8047f515a1\"\n",
    "auth_token = \"762f8139702ae50ecdf9feba85b4be11\"\n",
    "\n",
    "client = Client(account_sid, auth_token)\n",
    "\n",
    "from_phone_number = \"+19737759933\"\n",
    "\n",
    "app = Flask(__name__)\n",
    "\n",
    "@app.route('/make_call', methods=['POST'])\n",
    "def make_twilio_call():\n",
    "    try:\n",
    "        to_phone_number = \"+919596181712\"\n",
    "\n",
    "        call = client.calls.create(\n",
    "            to=to_phone_number,\n",
    "            from_=from_phone_number,\n",
    "            url='http://demo.twilio.com/docs/voice.xml'\n",
    "        )\n",
    "\n",
    "        return \"\", 200\n",
    "    except Exception as e:\n",
    "        return jsonify({\"error\": str(e)}), 500\n",
    "\n",
    "if __name__ == '__main__':\n",
    "    app.run(host='0.0.0.0', port=5000)\n"
   ]
  }
 ],
 "metadata": {
  "kernelspec": {
   "display_name": "Python 3 (ipykernel)",
   "language": "python",
   "name": "python3"
  },
  "language_info": {
   "codemirror_mode": {
    "name": "ipython",
    "version": 3
   },
   "file_extension": ".py",
   "mimetype": "text/x-python",
   "name": "python",
   "nbconvert_exporter": "python",
   "pygments_lexer": "ipython3",
   "version": "3.10.0"
  }
 },
 "nbformat": 4,
 "nbformat_minor": 5
}
