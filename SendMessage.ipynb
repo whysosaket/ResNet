{
 "cells": [
  {
   "cell_type": "code",
   "execution_count": 4,
   "id": "3792516e",
   "metadata": {},
   "outputs": [
    {
     "name": "stdout",
     "output_type": "stream",
     "text": [
      " * Serving Flask app '__main__'\n",
      " * Debug mode: off\n"
     ]
    },
    {
     "name": "stderr",
     "output_type": "stream",
     "text": [
      "WARNING: This is a development server. Do not use it in a production deployment. Use a production WSGI server instead.\n",
      " * Running on all addresses (0.0.0.0)\n",
      " * Running on http://127.0.0.1:5000\n",
      " * Running on http://192.168.29.151:5000\n",
      "Press CTRL+C to quit\n",
      "127.0.0.1 - - [17/Sep/2023 15:34:32] \"POST /send-sms HTTP/1.1\" 200 -\n"
     ]
    }
   ],
   "source": [
    "from flask import Flask, request, jsonify\n",
    "from twilio.rest import Client\n",
    "\n",
    "app = Flask(__name__)\n",
    "\n",
    "account_sid = 'ACf911e559dc38b0b66b6dee8047f515a1'\n",
    "auth_token = '762f8139702ae50ecdf9feba85b4be11'\n",
    "client = Client(account_sid, auth_token)\n",
    "\n",
    "@app.route('/send-sms', methods=['POST'])\n",
    "def send_sms():\n",
    "    try:\n",
    "        data = request.get_json()\n",
    "        to_phone_number = \"+919596181712\"\n",
    "        message_body = data.get('message', '')\n",
    "\n",
    "        message = client.messages.create(\n",
    "            messaging_service_sid='MG9608bc6762988e4e64a67fe266092b42',\n",
    "            body=message_body,\n",
    "            to=to_phone_number\n",
    "        )\n",
    "\n",
    "        return \"\",200\n",
    "\n",
    "    except Exception as e:\n",
    "        return jsonify({'error': str(e)})\n",
    "\n",
    "if __name__ == '__main__':\n",
    "    app.run(host='0.0.0.0', port=5000)\n"
   ]
  },
  {
   "cell_type": "code",
   "execution_count": null,
   "id": "74342945",
   "metadata": {},
   "outputs": [],
   "source": []
  }
 ],
 "metadata": {
  "kernelspec": {
   "display_name": "Python 3 (ipykernel)",
   "language": "python",
   "name": "python3"
  },
  "language_info": {
   "codemirror_mode": {
    "name": "ipython",
    "version": 3
   },
   "file_extension": ".py",
   "mimetype": "text/x-python",
   "name": "python",
   "nbconvert_exporter": "python",
   "pygments_lexer": "ipython3",
   "version": "3.10.0"
  }
 },
 "nbformat": 4,
 "nbformat_minor": 5
}
